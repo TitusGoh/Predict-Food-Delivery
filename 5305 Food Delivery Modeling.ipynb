{
 "cells": [
  {
   "cell_type": "code",
   "execution_count": 1,
   "id": "f4397db9",
   "metadata": {},
   "outputs": [
    {
     "name": "stdout",
     "output_type": "stream",
     "text": [
      "   Unnamed: 0  Age  Gender  Marital Status  Occupation  Monthly Income  \\\n",
      "0           0   20       1               1           0               0   \n",
      "1           1   24       1               1           0               1   \n",
      "2           2   22       0               1           0               1   \n",
      "3           3   22       1               1           0               0   \n",
      "4           4   22       0               1           0               1   \n",
      "\n",
      "   Educational Qualifications  Family size  latitude  longitude  Pin code  \\\n",
      "0                           2            4   12.9766    77.5993    560001   \n",
      "1                           1            3   12.9770    77.5773    560009   \n",
      "2                           2            3   12.9551    77.6593    560017   \n",
      "3                           1            6   12.9473    77.5616    560019   \n",
      "4                           2            4   12.9850    77.5533    560010   \n",
      "\n",
      "   Output  \n",
      "0       1  \n",
      "1       1  \n",
      "2       1  \n",
      "3       1  \n",
      "4       1  \n"
     ]
    }
   ],
   "source": [
    "import pandas as pd\n",
    "from sklearn.metrics import precision_score, recall_score, f1_score, accuracy_score\n",
    "from sklearn.metrics import confusion_matrix\n",
    "from sklearn.model_selection import train_test_split,cross_val_score\n",
    "from sklearn.ensemble import RandomForestClassifier\n",
    "from sklearn.naive_bayes import GaussianNB\n",
    "from sklearn.neighbors import KNeighborsClassifier\n",
    "from sklearn.metrics import accuracy_score\n",
    "import seaborn as sns\n",
    "\n",
    "df = pd.read_csv(\"processed_food_delivery.csv\")\n",
    "print(df.head())"
   ]
  },
  {
   "cell_type": "code",
   "execution_count": 2,
   "id": "0609ec12",
   "metadata": {},
   "outputs": [
    {
     "name": "stdout",
     "output_type": "stream",
     "text": [
      "Shape of train dataset :  (310, 11)\n",
      "Shape of test dataset :  (78, 11)\n"
     ]
    }
   ],
   "source": [
    "\n",
    "X = df.drop('Output',axis=1)\n",
    "y = df['Output']\n",
    "\n",
    "X_train,X_test, y_train, y_test = train_test_split(X,y, test_size=0.2, \n",
    "                                                    random_state=50)\n",
    "\n",
    "print(\"Shape of train dataset : \", X_train.shape)\n",
    "print(\"Shape of test dataset : \", X_test.shape)"
   ]
  },
  {
   "cell_type": "code",
   "execution_count": 3,
   "id": "e28619f2",
   "metadata": {},
   "outputs": [
    {
     "name": "stdout",
     "output_type": "stream",
     "text": [
      "Score:  0.7692307692307693\n",
      "Recall:  0.819672131147541\n",
      "Precision:  0.8771929824561403\n",
      "Accuracy:  0.7692307692307693\n",
      "F1 Score:  0.8474576271186439\n",
      "Confusion Matrix: \n",
      "[[10 11]\n",
      " [ 7 50]]\n"
     ]
    },
    {
     "data": {
      "image/png": "[encoded data removed]",
      "text/plain": [
       "<Figure size 432x288 with 2 Axes>"
      ]
     },
     "metadata": {
      "needs_background": "light"
     },
     "output_type": "display_data"
    }
   ],
   "source": [
    "#1. Naive Bayes\n",
    "X_train, X_test, y_train, y_test = train_test_split(X, y, test_size=0.2, random_state=4)\n",
    "\n",
    "gnb = GaussianNB()\n",
    "gnb.fit(X_train, y_train)\n",
    "print(\"Score: \", gnb.score(X_test, y_test))\n",
    "y_pred = gnb.predict(X_test)\n",
    "print(\"Recall: \", recall_score(y_test, y_pred))\n",
    "print(\"Precision: \", precision_score(y_test, y_pred))\n",
    "print(\"Accuracy: \", accuracy_score(y_test, y_pred))\n",
    "print(\"F1 Score: \", f1_score(y_test, y_pred))\n",
    "print(\"Confusion Matrix: \")\n",
    "print(confusion_matrix(y_pred,y_test))\n",
    "sns.heatmap(confusion_matrix(y_pred,y_test), annot=True);"
   ]
  },
  {
   "cell_type": "code",
   "execution_count": 4,
   "id": "626ec3b7",
   "metadata": {},
   "outputs": [
    {
     "name": "stdout",
     "output_type": "stream",
     "text": [
      "Score:  0.6538461538461539\n",
      "Recall:  0.7966101694915254\n",
      "Precision:  0.7580645161290323\n",
      "Accuracy:  0.6538461538461539\n",
      "F1 Score:  0.7768595041322315\n",
      "Confusion Matrix: \n",
      "[[ 4 12]\n",
      " [15 47]]\n"
     ]
    },
    {
     "data": {
      "image/png": "[encoded data removed]",
      "text/plain": [
       "<Figure size 432x288 with 2 Axes>"
      ]
     },
     "metadata": {
      "needs_background": "light"
     },
     "output_type": "display_data"
    }
   ],
   "source": [
    "#2. KNN n nearest\n",
    "\n",
    "X_train, X_test, y_train, y_test = train_test_split(X, y, test_size=0.2, random_state=20)\n",
    "\n",
    "knn = KNeighborsClassifier(n_neighbors = 3)\n",
    "knn.fit(X_train, y_train)\n",
    "print(\"Score: \", knn.score(X_test, y_test))\n",
    "y_pred = knn.predict(X_test)\n",
    "print(\"Recall: \", recall_score(y_test, y_pred))\n",
    "print(\"Precision: \", precision_score(y_test, y_pred))\n",
    "print(\"Accuracy: \", accuracy_score(y_test, y_pred))\n",
    "print(\"F1 Score: \", f1_score(y_test, y_pred))\n",
    "print(\"Confusion Matrix: \")\n",
    "print(confusion_matrix(y_pred,y_test))\n",
    "sns.heatmap(confusion_matrix(y_pred,y_test), annot=True);"
   ]
  },
  {
   "cell_type": "code",
   "execution_count": 5,
   "id": "a4a540f7",
   "metadata": {},
   "outputs": [
    {
     "name": "stdout",
     "output_type": "stream",
     "text": [
      "Score:  0.7564102564102564\n",
      "Recall:  1.0\n",
      "Precision:  0.7564102564102564\n",
      "Accuracy:  0.7564102564102564\n",
      "F1 Score:  0.8613138686131386\n",
      "Confusion Matrix: \n",
      "[[ 0  0]\n",
      " [19 59]]\n"
     ]
    },
    {
     "data": {
      "image/png": "[encoded data removed]",
      "text/plain": [
       "<Figure size 432x288 with 2 Axes>"
      ]
     },
     "metadata": {
      "needs_background": "light"
     },
     "output_type": "display_data"
    }
   ],
   "source": [
    "#3. Support vector\n",
    "from sklearn import svm\n",
    "\n",
    "clf = svm.SVC()\n",
    "clf.fit(X_train, y_train)\n",
    "print(\"Score: \", clf.score(X_test, y_test))\n",
    "y_pred = clf.predict(X_test)\n",
    "print(\"Recall: \", recall_score(y_test, y_pred))\n",
    "print(\"Precision: \", precision_score(y_test, y_pred))\n",
    "print(\"Accuracy: \", accuracy_score(y_test, y_pred))\n",
    "print(\"F1 Score: \", f1_score(y_test, y_pred))\n",
    "print(\"Confusion Matrix: \")\n",
    "print(confusion_matrix(y_pred,y_test))\n",
    "sns.heatmap(confusion_matrix(y_pred,y_test), annot=True);"
   ]
  },
  {
   "cell_type": "code",
   "execution_count": 6,
   "id": "d4cb2322",
   "metadata": {},
   "outputs": [
    {
     "name": "stdout",
     "output_type": "stream",
     "text": [
      "Score 0.8762886597938144\n",
      "Recall:  0.9605263157894737\n",
      "Precision:  0.8902439024390244\n",
      "Accuracy:  0.8762886597938144\n",
      "F1 Score:  0.9240506329113923\n",
      "Confusion Matrix: \n",
      "[[12  3]\n",
      " [ 9 73]]\n"
     ]
    },
    {
     "data": {
      "image/png": "[encoded data removed]",
      "text/plain": [
       "<Figure size 432x288 with 2 Axes>"
      ]
     },
     "metadata": {
      "needs_background": "light"
     },
     "output_type": "display_data"
    }
   ],
   "source": [
    "#4. Decision Tree with entropy\n",
    "import matplotlib.pyplot as plt\n",
    "from sklearn.tree import DecisionTreeClassifier\n",
    "from sklearn.model_selection import train_test_split\n",
    "X_train, X_test, y_train, y_test = train_test_split(X, y, random_state=30)\n",
    "\n",
    "clf = DecisionTreeClassifier(criterion='entropy').fit(X_train, y_train)\n",
    "\n",
    "train_score = clf.score(X_train, y_train)\n",
    "test_score = clf.score(X_test, y_test)\n",
    "\n",
    "print(\"Score\", clf.score(X_test, y_test))\n",
    "y_pred = clf.predict(X_test)\n",
    "print(\"Recall: \", recall_score(y_test, y_pred))\n",
    "print(\"Precision: \", precision_score(y_test, y_pred))\n",
    "print(\"Accuracy: \", accuracy_score(y_test, y_pred))\n",
    "print(\"F1 Score: \", f1_score(y_test, y_pred))\n",
    "print(\"Confusion Matrix: \")\n",
    "print(confusion_matrix(y_pred,y_test))\n",
    "sns.heatmap(confusion_matrix(y_pred,y_test), annot=True);"
   ]
  },
  {
   "cell_type": "code",
   "execution_count": 7,
   "id": "c41f81c2",
   "metadata": {},
   "outputs": [
    {
     "name": "stdout",
     "output_type": "stream",
     "text": [
      "Score:  0.865979381443299\n",
      "Recall:  0.9210526315789473\n",
      "Precision:  0.9090909090909091\n",
      "Accuracy:  0.865979381443299\n",
      "F1 Score:  0.915032679738562\n",
      "Confusion Matrix: \n",
      "[[14  6]\n",
      " [ 7 70]]\n"
     ]
    },
    {
     "data": {
      "image/png": "[encoded data removed]",
      "text/plain": [
       "<Figure size 432x288 with 2 Axes>"
      ]
     },
     "metadata": {
      "needs_background": "light"
     },
     "output_type": "display_data"
    }
   ],
   "source": [
    "#5. Decision Tree with gini\n",
    "import matplotlib.pyplot as plt\n",
    "from sklearn.tree import DecisionTreeClassifier\n",
    "from sklearn.model_selection import train_test_split\n",
    "X_train, X_test, y_train, y_test = train_test_split(X, y, random_state=30)\n",
    "\n",
    "clf = DecisionTreeClassifier(criterion='gini').fit(X_train, y_train)\n",
    "\n",
    "train_score = clf.score(X_train, y_train)\n",
    "test_score = clf.score(X_test, y_test)\n",
    "\n",
    "print(\"Score: \", clf.score(X_test, y_test))\n",
    "y_pred = clf.predict(X_test)\n",
    "print(\"Recall: \", recall_score(y_test, y_pred))\n",
    "print(\"Precision: \", precision_score(y_test, y_pred))\n",
    "print(\"Accuracy: \", accuracy_score(y_test, y_pred))\n",
    "print(\"F1 Score: \", f1_score(y_test, y_pred))\n",
    "print(\"Confusion Matrix: \")\n",
    "print(confusion_matrix(y_pred,y_test))\n",
    "sns.heatmap(confusion_matrix(y_pred,y_test), annot=True);"
   ]
  },
  {
   "cell_type": "code",
   "execution_count": 8,
   "id": "c0673c5a",
   "metadata": {},
   "outputs": [
    {
     "name": "stdout",
     "output_type": "stream",
     "text": [
      "Score:  0.845360824742268\n",
      "Recall:  0.9473684210526315\n",
      "Precision:  0.8674698795180723\n",
      "Accuracy:  0.845360824742268\n",
      "F1 Score:  0.9056603773584905\n",
      "Confusion Matrix: \n",
      "[[10  4]\n",
      " [11 72]]\n"
     ]
    },
    {
     "data": {
      "image/png": "[encoded data removed]",
      "text/plain": [
       "<Figure size 432x288 with 2 Axes>"
      ]
     },
     "metadata": {
      "needs_background": "light"
     },
     "output_type": "display_data"
    }
   ],
   "source": [
    "#6. Random Forest\n",
    "rfc = RandomForestClassifier(n_estimators=750)\n",
    "\n",
    "rfc.fit(X_train, y_train)\n",
    "\n",
    "print(\"Score: \", rfc.score(X_test, y_test))\n",
    "y_pred = rfc.predict(X_test)\n",
    "print(\"Recall: \", recall_score(y_test, y_pred))\n",
    "print(\"Precision: \", precision_score(y_test, y_pred))\n",
    "print(\"Accuracy: \", accuracy_score(y_test, y_pred))\n",
    "print(\"F1 Score: \", f1_score(y_test, y_pred))\n",
    "print(\"Confusion Matrix: \")\n",
    "print(confusion_matrix(y_pred,y_test))\n",
    "sns.heatmap(confusion_matrix(y_pred,y_test), annot=True);"
   ]
  },
  {
   "cell_type": "code",
   "execution_count": null,
   "id": "3351a32b",
   "metadata": {},
   "outputs": [],
   "source": []
  }
 ],
 "metadata": {
  "kernelspec": {
   "display_name": "Python 3 (ipykernel)",
   "language": "python",
   "name": "python3"
  },
  "language_info": {
   "codemirror_mode": {
    "name": "ipython",
    "version": 3
   },
   "file_extension": ".py",
   "mimetype": "text/x-python",
   "name": "python",
   "nbconvert_exporter": "python",
   "pygments_lexer": "ipython3",
   "version": "3.9.12"
  }
 },
 "nbformat": 4,
 "nbformat_minor": 5
}
