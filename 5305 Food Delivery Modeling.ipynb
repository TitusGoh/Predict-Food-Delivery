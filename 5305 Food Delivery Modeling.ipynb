{
 "cells": [
  {
   "cell_type": "code",
   "execution_count": 9,
   "id": "f4397db9",
   "metadata": {},
   "outputs": [
    {
     "name": "stdout",
     "output_type": "stream",
     "text": [
      "   Unnamed: 0  Age  Gender  Marital Status  Occupation  Monthly Income  \\\n",
      "0           0   20       1               1           0               0   \n",
      "1           1   24       1               1           0               1   \n",
      "2           2   22       0               1           0               1   \n",
      "3           3   22       1               1           0               0   \n",
      "4           4   22       0               1           0               1   \n",
      "\n",
      "   Educational Qualifications  Family size  latitude  longitude  Pin code  \\\n",
      "0                           2            4   12.9766    77.5993    560001   \n",
      "1                           1            3   12.9770    77.5773    560009   \n",
      "2                           2            3   12.9551    77.6593    560017   \n",
      "3                           1            6   12.9473    77.5616    560019   \n",
      "4                           2            4   12.9850    77.5533    560010   \n",
      "\n",
      "   Output  \n",
      "0       1  \n",
      "1       1  \n",
      "2       1  \n",
      "3       1  \n",
      "4       1  \n"
     ]
    }
   ],
   "source": [
    "import pandas as pd\n",
    "from sklearn.metrics import precision_score, recall_score, f1_score, accuracy_score\n",
    "from sklearn.metrics import confusion_matrix\n",
    "from sklearn.model_selection import train_test_split,cross_val_score\n",
    "from sklearn.ensemble import RandomForestClassifier\n",
    "from sklearn.naive_bayes import GaussianNB\n",
    "from sklearn.neighbors import KNeighborsClassifier\n",
    "from sklearn.metrics import accuracy_score\n",
    "import seaborn as sns\n",
    "from sklearn.model_selection import learning_curve\n",
    "import numpy as np\n",
    "import random\n",
    "from sklearn.pipeline import Pipeline, make_pipeline\n",
    "from sklearn.model_selection import GridSearchCV\n",
    "import matplotlib.pyplot as plt\n",
    "\n",
    "df = pd.read_csv(\"processed_food_delivery.csv\")\n",
    "print(df.head())"
   ]
  },
  {
   "cell_type": "code",
   "execution_count": 10,
   "id": "0609ec12",
   "metadata": {},
   "outputs": [
    {
     "name": "stdout",
     "output_type": "stream",
     "text": [
      "Shape of train dataset :  (310, 11)\n",
      "Shape of test dataset :  (78, 11)\n"
     ]
    }
   ],
   "source": [
    "\n",
    "X = df.drop('Output',axis=1)\n",
    "y = df['Output']\n",
    "\n",
    "X_train,X_test, y_train, y_test = train_test_split(X,y, test_size=0.2, \n",
    "                                                    random_state=50)\n",
    "\n",
    "print(\"Shape of train dataset : \", X_train.shape)\n",
    "print(\"Shape of test dataset : \", X_test.shape)"
   ]
  },
  {
   "cell_type": "code",
   "execution_count": 11,
   "id": "e28619f2",
   "metadata": {},
   "outputs": [
    {
     "name": "stdout",
     "output_type": "stream",
     "text": [
      "Score:  0.7096774193548387\n",
      "Recall:  0.8604651162790697\n",
      "Precision:  0.7551020408163265\n",
      "Accuracy:  0.7096774193548387\n",
      "F1 Score:  0.8043478260869564\n",
      "Confusion Matrix: \n",
      "[[ 7  6]\n",
      " [12 37]]\n"
     ]
    },
    {
     "data": {
      "image/png": "[encoded data removed]",
      "text/plain": [
       "<Figure size 432x288 with 2 Axes>"
      ]
     },
     "metadata": {
      "needs_background": "light"
     },
     "output_type": "display_data"
    }
   ],
   "source": [
    "#1. Naive Bayes\n",
    "train_x, val_x, train_y, val_y = train_test_split(X_train, y_train, test_size=0.2, random_state=5) \n",
    "#change X and y to X_train, y_train\n",
    "#^ change to train_x, val_x, train_y, val_y\n",
    "#cross validation: k = 3 or 5\n",
    "#print out validation results\n",
    "#hyper parameter testing\n",
    "#learning curve, predict for training data too: y_pred = gnb_predict(trainX)\n",
    "#at the end use the testing data\n",
    "gnb = GaussianNB()\n",
    "gnb.fit(train_x, train_y)\n",
    "print(\"Score: \", gnb.score(val_x, val_y))\n",
    "y_pred = gnb.predict(val_x)\n",
    "print(\"Recall: \", recall_score(val_y, y_pred))\n",
    "print(\"Precision: \", precision_score(val_y, y_pred))\n",
    "print(\"Accuracy: \", accuracy_score(val_y, y_pred))\n",
    "print(\"F1 Score: \", f1_score(val_y, y_pred))\n",
    "print(\"Confusion Matrix: \")\n",
    "print(confusion_matrix(y_pred,val_y))\n",
    "sns.heatmap(confusion_matrix(y_pred,val_y), annot=True);"
   ]
  },
  {
   "cell_type": "code",
   "execution_count": 12,
   "id": "27fde621",
   "metadata": {},
   "outputs": [
    {
     "name": "stdout",
     "output_type": "stream",
     "text": [
      "Score:  0.7903225806451613\n",
      "Recall:  0.8653846153846154\n",
      "Precision:  0.8823529411764706\n",
      "Accuracy:  0.7903225806451613\n",
      "F1 Score:  0.8737864077669903\n",
      "Confusion Matrix: \n",
      "[[ 4  7]\n",
      " [ 6 45]]\n"
     ]
    },
    {
     "data": {
      "image/png": "[encoded data removed]",
      "text/plain": [
       "<Figure size 432x288 with 2 Axes>"
      ]
     },
     "metadata": {
      "needs_background": "light"
     },
     "output_type": "display_data"
    }
   ],
   "source": [
    "#1. Naive Bayes\n",
    "#10 random state\n",
    "train_x, val_x, train_y, val_y = train_test_split(X_train, y_train, test_size=0.2, random_state=10)\n",
    "gnb = GaussianNB()\n",
    "gnb.fit(train_x, train_y)\n",
    "print(\"Score: \", gnb.score(val_x, val_y))\n",
    "y_pred = gnb.predict(val_x)\n",
    "print(\"Recall: \", recall_score(val_y, y_pred))\n",
    "print(\"Precision: \", precision_score(val_y, y_pred))\n",
    "print(\"Accuracy: \", accuracy_score(val_y, y_pred))\n",
    "print(\"F1 Score: \", f1_score(val_y, y_pred))\n",
    "print(\"Confusion Matrix: \")\n",
    "print(confusion_matrix(y_pred,val_y))\n",
    "sns.heatmap(confusion_matrix(y_pred,val_y), annot=True);"
   ]
  },
  {
   "cell_type": "code",
   "execution_count": 13,
   "id": "589d2c12",
   "metadata": {},
   "outputs": [
    {
     "name": "stdout",
     "output_type": "stream",
     "text": [
      "Score:  0.7580645161290323\n",
      "Recall:  0.8461538461538461\n",
      "Precision:  0.8627450980392157\n",
      "Accuracy:  0.7580645161290323\n",
      "F1 Score:  0.854368932038835\n",
      "Confusion Matrix: \n",
      "[[ 3  8]\n",
      " [ 7 44]]\n"
     ]
    },
    {
     "data": {
      "image/png": "[encoded data removed]",
      "text/plain": [
       "<Figure size 432x288 with 2 Axes>"
      ]
     },
     "metadata": {
      "needs_background": "light"
     },
     "output_type": "display_data"
    }
   ],
   "source": [
    "#1. Naive Bayes\n",
    "#50 random state\n",
    "train_x, val_x, train_y, val_y = train_test_split(X_train, y_train, test_size=0.2, random_state=50)\n",
    "gnb = GaussianNB()\n",
    "gnb.fit(train_x, train_y)\n",
    "print(\"Score: \", gnb.score(val_x, val_y))\n",
    "y_pred = gnb.predict(val_x)\n",
    "print(\"Recall: \", recall_score(val_y, y_pred))\n",
    "print(\"Precision: \", precision_score(val_y, y_pred))\n",
    "print(\"Accuracy: \", accuracy_score(val_y, y_pred))\n",
    "print(\"F1 Score: \", f1_score(val_y, y_pred))\n",
    "print(\"Confusion Matrix: \")\n",
    "print(confusion_matrix(y_pred,val_y))\n",
    "sns.heatmap(confusion_matrix(y_pred,val_y), annot=True);"
   ]
  },
  {
   "cell_type": "code",
   "execution_count": 15,
   "id": "626ec3b7",
   "metadata": {},
   "outputs": [
    {
     "name": "stdout",
     "output_type": "stream",
     "text": [
      "Score:  0.6612903225806451\n",
      "Recall:  0.7755102040816326\n",
      "Precision:  0.7916666666666666\n",
      "Accuracy:  0.6612903225806451\n",
      "F1 Score:  0.7835051546391752\n",
      "Confusion Matrix: \n",
      "[[ 3 11]\n",
      " [10 38]]\n"
     ]
    },
    {
     "data": {
      "image/png": "[encoded data removed]",
      "text/plain": [
       "<Figure size 432x288 with 2 Axes>"
      ]
     },
     "metadata": {
      "needs_background": "light"
     },
     "output_type": "display_data"
    }
   ],
   "source": [
    "#2. KNN n nearest\n",
    "#3 neighbors\n",
    "\n",
    "train_x, val_x, train_y, val_y = train_test_split(X_train, y_train, test_size=0.2, random_state=20)\n",
    "\n",
    "knn = KNeighborsClassifier(n_neighbors = 3)\n",
    "knn.fit(train_x, train_y)\n",
    "print(\"Score: \", knn.score(val_x, val_y))\n",
    "y_pred = knn.predict(val_x)\n",
    "print(\"Recall: \", recall_score(val_y, y_pred))\n",
    "print(\"Precision: \", precision_score(val_y, y_pred))\n",
    "print(\"Accuracy: \", accuracy_score(val_y, y_pred))\n",
    "print(\"F1 Score: \", f1_score(val_y, y_pred))\n",
    "print(\"Confusion Matrix: \")\n",
    "print(confusion_matrix(y_pred,val_y))\n",
    "sns.heatmap(confusion_matrix(y_pred,val_y), annot=True);"
   ]
  },
  {
   "cell_type": "code",
   "execution_count": 16,
   "id": "51117c9a",
   "metadata": {},
   "outputs": [
    {
     "name": "stdout",
     "output_type": "stream",
     "text": [
      "Score:  0.5806451612903226\n",
      "Recall:  0.6530612244897959\n",
      "Precision:  0.7804878048780488\n",
      "Accuracy:  0.5806451612903226\n",
      "F1 Score:  0.711111111111111\n",
      "Confusion Matrix: \n",
      "[[ 4 17]\n",
      " [ 9 32]]\n"
     ]
    },
    {
     "data": {
      "image/png": "[encoded data removed]",
      "text/plain": [
       "<Figure size 432x288 with 2 Axes>"
      ]
     },
     "metadata": {
      "needs_background": "light"
     },
     "output_type": "display_data"
    }
   ],
   "source": [
    "#2. KNN n nearest\n",
    "#4 neighbors\n",
    "\n",
    "train_x, val_x, train_y, val_y = train_test_split(X_train, y_train, test_size=0.2, random_state=20)\n",
    "\n",
    "knn = KNeighborsClassifier(n_neighbors = 4)\n",
    "knn.fit(train_x, train_y)\n",
    "print(\"Score: \", knn.score(val_x, val_y))\n",
    "y_pred = knn.predict(val_x)\n",
    "print(\"Recall: \", recall_score(val_y, y_pred))\n",
    "print(\"Precision: \", precision_score(val_y, y_pred))\n",
    "print(\"Accuracy: \", accuracy_score(val_y, y_pred))\n",
    "print(\"F1 Score: \", f1_score(val_y, y_pred))\n",
    "print(\"Confusion Matrix: \")\n",
    "print(confusion_matrix(y_pred,val_y))\n",
    "sns.heatmap(confusion_matrix(y_pred,val_y), annot=True);"
   ]
  },
  {
   "cell_type": "code",
   "execution_count": 17,
   "id": "f4409a19",
   "metadata": {},
   "outputs": [
    {
     "name": "stdout",
     "output_type": "stream",
     "text": [
      "Score:  0.7580645161290323\n",
      "Recall:  0.9183673469387755\n",
      "Precision:  0.8035714285714286\n",
      "Accuracy:  0.7580645161290323\n",
      "F1 Score:  0.8571428571428571\n",
      "Confusion Matrix: \n",
      "[[ 2  4]\n",
      " [11 45]]\n"
     ]
    },
    {
     "data": {
      "image/png": "[encoded data removed]",
      "text/plain": [
       "<Figure size 432x288 with 2 Axes>"
      ]
     },
     "metadata": {
      "needs_background": "light"
     },
     "output_type": "display_data"
    }
   ],
   "source": [
    "#2. KNN n nearest\n",
    "#5 neighbors\n",
    "\n",
    "train_x, val_x, train_y, val_y = train_test_split(X_train, y_train, test_size=0.2, random_state=20)\n",
    "\n",
    "knn = KNeighborsClassifier(n_neighbors = 5)\n",
    "knn.fit(train_x, train_y)\n",
    "print(\"Score: \", knn.score(val_x, val_y))\n",
    "y_pred = knn.predict(val_x)\n",
    "print(\"Recall: \", recall_score(val_y, y_pred))\n",
    "print(\"Precision: \", precision_score(val_y, y_pred))\n",
    "print(\"Accuracy: \", accuracy_score(val_y, y_pred))\n",
    "print(\"F1 Score: \", f1_score(val_y, y_pred))\n",
    "print(\"Confusion Matrix: \")\n",
    "print(confusion_matrix(y_pred,val_y))\n",
    "sns.heatmap(confusion_matrix(y_pred,val_y), annot=True);"
   ]
  },
  {
   "cell_type": "code",
   "execution_count": 42,
   "id": "b356e3b9",
   "metadata": {},
   "outputs": [
    {
     "name": "stdout",
     "output_type": "stream",
     "text": [
      "[0.78205128 0.24358974 0.20512821 0.33766234 0.48051948]\n",
      "cv_scores mean:0.40979020979020975\n"
     ]
    },
    {
     "data": {
      "text/plain": [
       "{'n_neighbors': 24}"
      ]
     },
     "execution_count": 42,
     "metadata": {},
     "output_type": "execute_result"
    }
   ],
   "source": [
    "#Kneighbors cross validation\n",
    "\n",
    "knn_cv = KNeighborsClassifier(n_neighbors=3)\n",
    "#train model with cv of 5 \n",
    "cv_scores = cross_val_score(knn_cv, X, y, cv=5)\n",
    "#print each cv score (accuracy) and average them\n",
    "print(cv_scores)\n",
    "print('cv_scores mean:{}'.format(np.mean(cv_scores)))\n",
    "\n",
    "knn2 = KNeighborsClassifier()\n",
    "#create a dictionary of all values we want to test for n_neighbors\n",
    "param_grid = {'n_neighbors': np.arange(1, 25)}\n",
    "#use gridsearch to test all values for n_neighbors\n",
    "knn_gscv = GridSearchCV(knn2, param_grid, cv=5)\n",
    "#fit model to data\n",
    "knn_gscv.fit(X, y)\n",
    "knn_gscv.best_params_"
   ]
  },
  {
   "cell_type": "code",
   "execution_count": 43,
   "id": "5c34c53e",
   "metadata": {},
   "outputs": [
    {
     "name": "stdout",
     "output_type": "stream",
     "text": [
      "Score:  0.7903225806451613\n",
      "Recall:  1.0\n",
      "Precision:  0.7903225806451613\n",
      "Accuracy:  0.7903225806451613\n",
      "F1 Score:  0.8828828828828829\n",
      "Confusion Matrix: \n",
      "[[ 0  0]\n",
      " [13 49]]\n"
     ]
    },
    {
     "data": {
      "image/png": "[encoded data removed]",
      "text/plain": [
       "<Figure size 432x288 with 2 Axes>"
      ]
     },
     "metadata": {
      "needs_background": "light"
     },
     "output_type": "display_data"
    }
   ],
   "source": [
    "#2. KNN n nearest\n",
    "#24 neighbors\n",
    "\n",
    "train_x, val_x, train_y, val_y = train_test_split(X_train, y_train, test_size=0.2, random_state=20)\n",
    "\n",
    "knn = KNeighborsClassifier(n_neighbors = 24)\n",
    "knn.fit(train_x, train_y)\n",
    "print(\"Score: \", knn.score(val_x, val_y))\n",
    "y_pred = knn.predict(val_x)\n",
    "print(\"Recall: \", recall_score(val_y, y_pred))\n",
    "print(\"Precision: \", precision_score(val_y, y_pred))\n",
    "print(\"Accuracy: \", accuracy_score(val_y, y_pred))\n",
    "print(\"F1 Score: \", f1_score(val_y, y_pred))\n",
    "print(\"Confusion Matrix: \")\n",
    "print(confusion_matrix(y_pred,val_y))\n",
    "sns.heatmap(confusion_matrix(y_pred,val_y), annot=True);"
   ]
  },
  {
   "cell_type": "code",
   "execution_count": 44,
   "id": "a4a540f7",
   "metadata": {},
   "outputs": [
    {
     "name": "stdout",
     "output_type": "stream",
     "text": [
      "Score:  0.6935483870967742\n",
      "Recall:  1.0\n",
      "Precision:  0.6935483870967742\n",
      "Accuracy:  0.6935483870967742\n",
      "F1 Score:  0.8190476190476191\n",
      "Confusion Matrix: \n",
      "[[ 0  0]\n",
      " [19 43]]\n"
     ]
    },
    {
     "data": {
      "image/png": "[encoded data removed]",
      "text/plain": [
       "<Figure size 432x288 with 2 Axes>"
      ]
     },
     "metadata": {
      "needs_background": "light"
     },
     "output_type": "display_data"
    }
   ],
   "source": [
    "#3. Support vector machine\n",
    "#5 random state\n",
    "from sklearn import svm\n",
    "\n",
    "train_x, val_x, train_y, val_y = train_test_split(X_train, y_train, test_size=0.2, random_state=5)\n",
    "\n",
    "clf = svm.SVC()\n",
    "clf.fit(train_x, train_y)\n",
    "print(\"Score: \", clf.score(val_x, val_y))\n",
    "y_pred = clf.predict(val_x)\n",
    "print(\"Recall: \", recall_score(val_y, y_pred))\n",
    "print(\"Precision: \", precision_score(val_y, y_pred))\n",
    "print(\"Accuracy: \", accuracy_score(val_y, y_pred))\n",
    "print(\"F1 Score: \", f1_score(val_y, y_pred))\n",
    "print(\"Confusion Matrix: \")\n",
    "print(confusion_matrix(y_pred,val_y))\n",
    "sns.heatmap(confusion_matrix(y_pred,val_y), annot=True);"
   ]
  },
  {
   "cell_type": "code",
   "execution_count": 19,
   "id": "9e43a783",
   "metadata": {},
   "outputs": [
    {
     "name": "stdout",
     "output_type": "stream",
     "text": [
      "Score:  0.8387096774193549\n",
      "Recall:  1.0\n",
      "Precision:  0.8387096774193549\n",
      "Accuracy:  0.8387096774193549\n",
      "F1 Score:  0.9122807017543859\n",
      "Confusion Matrix: \n",
      "[[ 0  0]\n",
      " [10 52]]\n"
     ]
    },
    {
     "data": {
      "image/png": "[encoded data removed]",
      "text/plain": [
       "<Figure size 432x288 with 2 Axes>"
      ]
     },
     "metadata": {
      "needs_background": "light"
     },
     "output_type": "display_data"
    }
   ],
   "source": [
    "#3. Support vector machine\n",
    "#10 random state\n",
    "from sklearn import svm\n",
    "\n",
    "train_x, val_x, train_y, val_y = train_test_split(X_train, y_train, test_size=0.2, random_state= 10)\n",
    "\n",
    "clf = svm.SVC()\n",
    "clf.fit(train_x, train_y)\n",
    "print(\"Score: \", clf.score(val_x, val_y))\n",
    "y_pred = clf.predict(val_x)\n",
    "print(\"Recall: \", recall_score(val_y, y_pred))\n",
    "print(\"Precision: \", precision_score(val_y, y_pred))\n",
    "print(\"Accuracy: \", accuracy_score(val_y, y_pred))\n",
    "print(\"F1 Score: \", f1_score(val_y, y_pred))\n",
    "print(\"Confusion Matrix: \")\n",
    "print(confusion_matrix(y_pred,val_y))\n",
    "sns.heatmap(confusion_matrix(y_pred,val_y), annot=True);"
   ]
  },
  {
   "cell_type": "code",
   "execution_count": 20,
   "id": "ebbe4d42",
   "metadata": {},
   "outputs": [
    {
     "name": "stdout",
     "output_type": "stream",
     "text": [
      "Score:  0.8387096774193549\n",
      "Recall:  1.0\n",
      "Precision:  0.8387096774193549\n",
      "Accuracy:  0.8387096774193549\n",
      "F1 Score:  0.9122807017543859\n",
      "Confusion Matrix: \n",
      "[[ 0  0]\n",
      " [10 52]]\n"
     ]
    },
    {
     "data": {
      "image/png": "[encoded data removed]",
      "text/plain": [
       "<Figure size 432x288 with 2 Axes>"
      ]
     },
     "metadata": {
      "needs_background": "light"
     },
     "output_type": "display_data"
    }
   ],
   "source": [
    "#3. Support vector machine\n",
    "#50 random state\n",
    "from sklearn import svm\n",
    "\n",
    "train_x, val_x, train_y, val_y = train_test_split(X_train, y_train, test_size=0.2, random_state=50)\n",
    "\n",
    "clf = svm.SVC()\n",
    "clf.fit(train_x, train_y)\n",
    "print(\"Score: \", clf.score(val_x, val_y))\n",
    "y_pred = clf.predict(val_x)\n",
    "print(\"Recall: \", recall_score(val_y, y_pred))\n",
    "print(\"Precision: \", precision_score(val_y, y_pred))\n",
    "print(\"Accuracy: \", accuracy_score(val_y, y_pred))\n",
    "print(\"F1 Score: \", f1_score(val_y, y_pred))\n",
    "print(\"Confusion Matrix: \")\n",
    "print(confusion_matrix(y_pred,val_y))\n",
    "sns.heatmap(confusion_matrix(y_pred,val_y), annot=True);"
   ]
  },
  {
   "cell_type": "code",
   "execution_count": 21,
   "id": "d4cb2322",
   "metadata": {},
   "outputs": [
    {
     "name": "stdout",
     "output_type": "stream",
     "text": [
      "Score:  0.6410256410256411\n",
      "Recall:  0.8\n",
      "Precision:  0.7213114754098361\n",
      "Accuracy:  0.6410256410256411\n",
      "F1 Score:  0.7586206896551724\n",
      "Confusion Matrix: \n",
      "[[ 6 11]\n",
      " [17 44]]\n"
     ]
    },
    {
     "data": {
      "image/png": "[encoded data removed]",
      "text/plain": [
       "<Figure size 432x288 with 2 Axes>"
      ]
     },
     "metadata": {
      "needs_background": "light"
     },
     "output_type": "display_data"
    }
   ],
   "source": [
    "#4. Decision Tree with entropy\n",
    "#5 random state\n",
    "\n",
    "import matplotlib.pyplot as plt\n",
    "from sklearn.tree import DecisionTreeClassifier\n",
    "from sklearn.model_selection import train_test_split\n",
    "train_x, val_x, train_y, val_y = train_test_split(X_train, y_train, random_state=5)\n",
    "\n",
    "clf = DecisionTreeClassifier(criterion='entropy').fit(train_x, train_y)\n",
    "\n",
    "train_score = clf.score(train_x, train_y)\n",
    "test_score = clf.score(val_x, val_y)\n",
    "\n",
    "print(\"Score: \", clf.score(val_x, val_y))\n",
    "y_pred = clf.predict(val_x)\n",
    "print(\"Recall: \", recall_score(val_y, y_pred))\n",
    "print(\"Precision: \", precision_score(val_y, y_pred))\n",
    "print(\"Accuracy: \", accuracy_score(val_y, y_pred))\n",
    "print(\"F1 Score: \", f1_score(val_y, y_pred))\n",
    "print(\"Confusion Matrix: \")\n",
    "print(confusion_matrix(y_pred,val_y))\n",
    "sns.heatmap(confusion_matrix(y_pred,val_y), annot=True);"
   ]
  },
  {
   "cell_type": "code",
   "execution_count": 22,
   "id": "fd62234d",
   "metadata": {},
   "outputs": [
    {
     "name": "stdout",
     "output_type": "stream",
     "text": [
      "Score:  0.8205128205128205\n",
      "Recall:  0.9206349206349206\n",
      "Precision:  0.8656716417910447\n",
      "Accuracy:  0.8205128205128205\n",
      "F1 Score:  0.8923076923076922\n",
      "Confusion Matrix: \n",
      "[[ 6  5]\n",
      " [ 9 58]]\n"
     ]
    },
    {
     "data": {
      "image/png": "[encoded data removed]",
      "text/plain": [
       "<Figure size 432x288 with 2 Axes>"
      ]
     },
     "metadata": {
      "needs_background": "light"
     },
     "output_type": "display_data"
    }
   ],
   "source": [
    "#4. Decision Tree with entropy\n",
    "#10 random state\n",
    "\n",
    "import matplotlib.pyplot as plt\n",
    "from sklearn.tree import DecisionTreeClassifier\n",
    "from sklearn.model_selection import train_test_split\n",
    "train_x, val_x, train_y, val_y = train_test_split(X_train, y_train, random_state=10)\n",
    "\n",
    "clf = DecisionTreeClassifier(criterion='entropy').fit(train_x, train_y)\n",
    "\n",
    "train_score = clf.score(train_x, train_y)\n",
    "test_score = clf.score(val_x, val_y)\n",
    "\n",
    "print(\"Score: \", clf.score(val_x, val_y))\n",
    "y_pred = clf.predict(val_x)\n",
    "print(\"Recall: \", recall_score(val_y, y_pred))\n",
    "print(\"Precision: \", precision_score(val_y, y_pred))\n",
    "print(\"Accuracy: \", accuracy_score(val_y, y_pred))\n",
    "print(\"F1 Score: \", f1_score(val_y, y_pred))\n",
    "print(\"Confusion Matrix: \")\n",
    "print(confusion_matrix(y_pred,val_y))\n",
    "sns.heatmap(confusion_matrix(y_pred,val_y), annot=True);"
   ]
  },
  {
   "cell_type": "code",
   "execution_count": 23,
   "id": "033e1fff",
   "metadata": {},
   "outputs": [
    {
     "name": "stdout",
     "output_type": "stream",
     "text": [
      "Score:  0.7692307692307693\n",
      "Recall:  0.835820895522388\n",
      "Precision:  0.8888888888888888\n",
      "Accuracy:  0.7692307692307693\n",
      "F1 Score:  0.8615384615384615\n",
      "Confusion Matrix: \n",
      "[[ 4 11]\n",
      " [ 7 56]]\n"
     ]
    },
    {
     "data": {
      "image/png": "[encoded data removed]",
      "text/plain": [
       "<Figure size 432x288 with 2 Axes>"
      ]
     },
     "metadata": {
      "needs_background": "light"
     },
     "output_type": "display_data"
    }
   ],
   "source": [
    "#4. Decision Tree with entropy\n",
    "#50 random state\n",
    "\n",
    "import matplotlib.pyplot as plt\n",
    "from sklearn.tree import DecisionTreeClassifier\n",
    "from sklearn.model_selection import train_test_split\n",
    "train_x, val_x, train_y, val_y = train_test_split(X_train, y_train, random_state=50)\n",
    "\n",
    "clf = DecisionTreeClassifier(criterion='entropy').fit(train_x, train_y)\n",
    "\n",
    "train_score = clf.score(train_x, train_y)\n",
    "test_score = clf.score(val_x, val_y)\n",
    "\n",
    "print(\"Score: \", clf.score(val_x, val_y))\n",
    "y_pred = clf.predict(val_x)\n",
    "print(\"Recall: \", recall_score(val_y, y_pred))\n",
    "print(\"Precision: \", precision_score(val_y, y_pred))\n",
    "print(\"Accuracy: \", accuracy_score(val_y, y_pred))\n",
    "print(\"F1 Score: \", f1_score(val_y, y_pred))\n",
    "print(\"Confusion Matrix: \")\n",
    "print(confusion_matrix(y_pred,val_y))\n",
    "sns.heatmap(confusion_matrix(y_pred,val_y), annot=True);"
   ]
  },
  {
   "cell_type": "code",
   "execution_count": 24,
   "id": "c41f81c2",
   "metadata": {},
   "outputs": [
    {
     "name": "stdout",
     "output_type": "stream",
     "text": [
      "Score:  0.717948717948718\n",
      "Recall:  0.8909090909090909\n",
      "Precision:  0.7538461538461538\n",
      "Accuracy:  0.717948717948718\n",
      "F1 Score:  0.8166666666666667\n",
      "Confusion Matrix: \n",
      "[[ 7  6]\n",
      " [16 49]]\n"
     ]
    },
    {
     "data": {
      "image/png": "[encoded data removed]",
      "text/plain": [
       "<Figure size 432x288 with 2 Axes>"
      ]
     },
     "metadata": {
      "needs_background": "light"
     },
     "output_type": "display_data"
    }
   ],
   "source": [
    "#5. Decision Tree with gini\n",
    "#5 random state\n",
    "\n",
    "import matplotlib.pyplot as plt\n",
    "from sklearn.tree import DecisionTreeClassifier\n",
    "from sklearn.model_selection import train_test_split\n",
    "train_x, val_x, train_y, val_y = train_test_split(X_train, y_train, random_state=5)\n",
    "\n",
    "clf = DecisionTreeClassifier(criterion='gini').fit(train_x, train_y)\n",
    "\n",
    "train_score = clf.score(train_x, train_y)\n",
    "test_score = clf.score(val_x, val_y)\n",
    "\n",
    "print(\"Score: \", clf.score(val_x, val_y))\n",
    "y_pred = clf.predict(val_x)\n",
    "print(\"Recall: \", recall_score(val_y, y_pred))\n",
    "print(\"Precision: \", precision_score(val_y, y_pred))\n",
    "print(\"Accuracy: \", accuracy_score(val_y, y_pred))\n",
    "print(\"F1 Score: \", f1_score(val_y, y_pred))\n",
    "print(\"Confusion Matrix: \")\n",
    "print(confusion_matrix(y_pred,val_y))\n",
    "sns.heatmap(confusion_matrix(y_pred,val_y), annot=True);"
   ]
  },
  {
   "cell_type": "code",
   "execution_count": 25,
   "id": "63bcf712",
   "metadata": {},
   "outputs": [
    {
     "name": "stdout",
     "output_type": "stream",
     "text": [
      "Score:  0.8205128205128205\n",
      "Recall:  0.9206349206349206\n",
      "Precision:  0.8656716417910447\n",
      "Accuracy:  0.8205128205128205\n",
      "F1 Score:  0.8923076923076922\n",
      "Confusion Matrix: \n",
      "[[ 6  5]\n",
      " [ 9 58]]\n"
     ]
    },
    {
     "data": {
      "image/png": "[encoded data removed]",
      "text/plain": [
       "<Figure size 432x288 with 2 Axes>"
      ]
     },
     "metadata": {
      "needs_background": "light"
     },
     "output_type": "display_data"
    }
   ],
   "source": [
    "#5. Decision Tree with gini\n",
    "#10 random state\n",
    "\n",
    "import matplotlib.pyplot as plt\n",
    "from sklearn.tree import DecisionTreeClassifier\n",
    "from sklearn.model_selection import train_test_split\n",
    "train_x, val_x, train_y, val_y = train_test_split(X_train, y_train, random_state=10)\n",
    "\n",
    "clf = DecisionTreeClassifier(criterion='gini').fit(train_x, train_y)\n",
    "\n",
    "train_score = clf.score(train_x, train_y)\n",
    "test_score = clf.score(val_x, val_y)\n",
    "\n",
    "print(\"Score: \", clf.score(val_x, val_y))\n",
    "y_pred = clf.predict(val_x)\n",
    "print(\"Recall: \", recall_score(val_y, y_pred))\n",
    "print(\"Precision: \", precision_score(val_y, y_pred))\n",
    "print(\"Accuracy: \", accuracy_score(val_y, y_pred))\n",
    "print(\"F1 Score: \", f1_score(val_y, y_pred))\n",
    "print(\"Confusion Matrix: \")\n",
    "print(confusion_matrix(y_pred,val_y))\n",
    "sns.heatmap(confusion_matrix(y_pred,val_y), annot=True);"
   ]
  },
  {
   "cell_type": "code",
   "execution_count": 26,
   "id": "880372df",
   "metadata": {},
   "outputs": [
    {
     "name": "stdout",
     "output_type": "stream",
     "text": [
      "Score:  0.782051282051282\n",
      "Recall:  0.8507462686567164\n",
      "Precision:  0.890625\n",
      "Accuracy:  0.782051282051282\n",
      "F1 Score:  0.8702290076335878\n",
      "Confusion Matrix: \n",
      "[[ 4 10]\n",
      " [ 7 57]]\n"
     ]
    },
    {
     "data": {
      "image/png": "[encoded data removed]",
      "text/plain": [
       "<Figure size 432x288 with 2 Axes>"
      ]
     },
     "metadata": {
      "needs_background": "light"
     },
     "output_type": "display_data"
    }
   ],
   "source": [
    "#5. Decision Tree with gini\n",
    "#50 random state\n",
    "\n",
    "import matplotlib.pyplot as plt\n",
    "from sklearn.tree import DecisionTreeClassifier\n",
    "from sklearn.model_selection import train_test_split\n",
    "train_x, val_x, train_y, val_y = train_test_split(X_train, y_train, random_state=50)\n",
    "\n",
    "clf = DecisionTreeClassifier(criterion='gini').fit(train_x, train_y)\n",
    "\n",
    "train_score = clf.score(train_x, train_y)\n",
    "test_score = clf.score(val_x, val_y)\n",
    "\n",
    "print(\"Score: \", clf.score(val_x, val_y))\n",
    "y_pred = clf.predict(val_x)\n",
    "print(\"Recall: \", recall_score(val_y, y_pred))\n",
    "print(\"Precision: \", precision_score(val_y, y_pred))\n",
    "print(\"Accuracy: \", accuracy_score(val_y, y_pred))\n",
    "print(\"F1 Score: \", f1_score(val_y, y_pred))\n",
    "print(\"Confusion Matrix: \")\n",
    "print(confusion_matrix(y_pred,val_y))\n",
    "sns.heatmap(confusion_matrix(y_pred,val_y), annot=True);"
   ]
  },
  {
   "cell_type": "code",
   "execution_count": 27,
   "id": "c0673c5a",
   "metadata": {},
   "outputs": [
    {
     "name": "stdout",
     "output_type": "stream",
     "text": [
      "Score:  0.7692307692307693\n",
      "Recall:  0.9818181818181818\n",
      "Precision:  0.7605633802816901\n",
      "Accuracy:  0.7692307692307693\n",
      "F1 Score:  0.8571428571428571\n",
      "Confusion Matrix: \n",
      "[[ 6  1]\n",
      " [17 54]]\n"
     ]
    },
    {
     "data": {
      "image/png": "[encoded data removed]",
      "text/plain": [
       "<Figure size 432x288 with 2 Axes>"
      ]
     },
     "metadata": {
      "needs_background": "light"
     },
     "output_type": "display_data"
    }
   ],
   "source": [
    "#6. Random Forest\n",
    "# 5 random state\n",
    "\n",
    "train_x, val_x, train_y, val_y = train_test_split(X_train, y_train, random_state=5)\n",
    "rfc = RandomForestClassifier(n_estimators=100)\n",
    "\n",
    "rfc.fit(train_x, train_y)\n",
    "\n",
    "print(\"Score: \", rfc.score(val_x, val_y))\n",
    "y_pred = rfc.predict(val_x)\n",
    "print(\"Recall: \", recall_score(val_y, y_pred))\n",
    "print(\"Precision: \", precision_score(val_y, y_pred))\n",
    "print(\"Accuracy: \", accuracy_score(val_y, y_pred))\n",
    "print(\"F1 Score: \", f1_score(val_y, y_pred))\n",
    "print(\"Confusion Matrix: \")\n",
    "print(confusion_matrix(y_pred,val_y))\n",
    "sns.heatmap(confusion_matrix(y_pred,val_y), annot=True);"
   ]
  },
  {
   "cell_type": "code",
   "execution_count": 28,
   "id": "3351a32b",
   "metadata": {},
   "outputs": [
    {
     "name": "stdout",
     "output_type": "stream",
     "text": [
      "Score:  0.7435897435897436\n",
      "Recall:  1.0\n",
      "Precision:  0.7333333333333333\n",
      "Accuracy:  0.7435897435897436\n",
      "F1 Score:  0.846153846153846\n",
      "Confusion Matrix: \n",
      "[[ 3  0]\n",
      " [20 55]]\n"
     ]
    },
    {
     "data": {
      "image/png": "[encoded data removed]",
      "text/plain": [
       "<Figure size 432x288 with 2 Axes>"
      ]
     },
     "metadata": {
      "needs_background": "light"
     },
     "output_type": "display_data"
    }
   ],
   "source": [
    "#6. Random Forest\n",
    "#10 random state, 500 n_estimators\n",
    "\n",
    "train_x, val_x, train_y, val_y = train_test_split(X_train, y_train, random_state=5)\n",
    "rfc = RandomForestClassifier(n_estimators=500)\n",
    "\n",
    "rfc.fit(train_x, train_y)\n",
    "\n",
    "print(\"Score: \", rfc.score(val_x, val_y))\n",
    "y_pred = rfc.predict(val_x)\n",
    "print(\"Recall: \", recall_score(val_y, y_pred))\n",
    "print(\"Precision: \", precision_score(val_y, y_pred))\n",
    "print(\"Accuracy: \", accuracy_score(val_y, y_pred))\n",
    "print(\"F1 Score: \", f1_score(val_y, y_pred))\n",
    "print(\"Confusion Matrix: \")\n",
    "print(confusion_matrix(y_pred,val_y))\n",
    "sns.heatmap(confusion_matrix(y_pred,val_y), annot=True);"
   ]
  },
  {
   "cell_type": "code",
   "execution_count": 29,
   "id": "25ab3a2d",
   "metadata": {},
   "outputs": [
    {
     "name": "stdout",
     "output_type": "stream",
     "text": [
      "Score:  0.7564102564102564\n",
      "Recall:  1.0\n",
      "Precision:  0.7432432432432432\n",
      "Accuracy:  0.7564102564102564\n",
      "F1 Score:  0.8527131782945736\n",
      "Confusion Matrix: \n",
      "[[ 4  0]\n",
      " [19 55]]\n"
     ]
    },
    {
     "data": {
      "image/png": "[encoded data removed]",
      "text/plain": [
       "<Figure size 432x288 with 2 Axes>"
      ]
     },
     "metadata": {
      "needs_background": "light"
     },
     "output_type": "display_data"
    }
   ],
   "source": [
    "#6. Random Forest\n",
    "#50 random state, 1000 n_estimators\n",
    "\n",
    "train_x, val_x, train_y, val_y = train_test_split(X_train, y_train, random_state=5)\n",
    "rfc = RandomForestClassifier(n_estimators=1000)\n",
    "\n",
    "rfc.fit(train_x, train_y)\n",
    "\n",
    "print(\"Score: \", rfc.score(val_x, val_y))\n",
    "y_pred = rfc.predict(val_x)\n",
    "print(\"Recall: \", recall_score(val_y, y_pred))\n",
    "print(\"Precision: \", precision_score(val_y, y_pred))\n",
    "print(\"Accuracy: \", accuracy_score(val_y, y_pred))\n",
    "print(\"F1 Score: \", f1_score(val_y, y_pred))\n",
    "print(\"Confusion Matrix: \")\n",
    "print(confusion_matrix(y_pred,val_y))\n",
    "sns.heatmap(confusion_matrix(y_pred,val_y), annot=True);"
   ]
  },
  {
   "cell_type": "code",
   "execution_count": 30,
   "id": "ee6101d3",
   "metadata": {},
   "outputs": [
    {
     "name": "stdout",
     "output_type": "stream",
     "text": [
      "Fitting 5 folds for each of 3 candidates, totalling 15 fits\n",
      "Best score 0.845\n",
      "Best parameters set: \n",
      "\trandomforestclassifier__n_estimators: 100\n"
     ]
    }
   ],
   "source": [
    "#GridSearch\n",
    "\n",
    "parameters = {\n",
    "    'randomforestclassifier__n_estimators': (20, 50, 100)\n",
    "}\n",
    "\n",
    "pipeline = make_pipeline(RandomForestClassifier())\n",
    "pipeline\n",
    "gridsearch = GridSearchCV(pipeline, parameters, verbose=1, n_jobs= -1)\n",
    "gridsearch.fit(train_x, train_y)\n",
    "\n",
    "print(\"Best score %0.3f\" % gridsearch.best_score_)\n",
    "print(\"Best parameters set: \")\n",
    "best_parameters = gridsearch.best_estimator_.get_params()\n",
    "\n",
    "for params in sorted(parameters.keys()):\n",
    "    print(\"\\t%s: %r\" % (params, best_parameters[params]))"
   ]
  },
  {
   "cell_type": "code",
   "execution_count": 50,
   "id": "8b1d8acf",
   "metadata": {},
   "outputs": [
    {
     "name": "stdout",
     "output_type": "stream",
     "text": [
      "Score:  0.8461538461538461\n",
      "Recall:  0.9117647058823529\n",
      "Precision:  0.9117647058823529\n",
      "Accuracy:  0.8461538461538461\n",
      "F1 Score:  0.9117647058823528\n",
      "Confusion Matrix: \n",
      "[[ 4  6]\n",
      " [ 6 62]]\n"
     ]
    },
    {
     "data": {
      "image/png": "[encoded data removed]",
      "text/plain": [
       "<Figure size 432x288 with 2 Axes>"
      ]
     },
     "metadata": {
      "needs_background": "light"
     },
     "output_type": "display_data"
    }
   ],
   "source": [
    "#6. Random Forest\n",
    "# 5 random state\n",
    "\n",
    "train_x, val_x, train_y, val_y = train_test_split(X_train, y_train, random_state=11)\n",
    "rfc = RandomForestClassifier(n_estimators=100)\n",
    "\n",
    "rfc.fit(train_x, train_y)\n",
    "\n",
    "print(\"Score: \", rfc.score(val_x, val_y))\n",
    "y_pred = rfc.predict(val_x)\n",
    "print(\"Recall: \", recall_score(val_y, y_pred))\n",
    "print(\"Precision: \", precision_score(val_y, y_pred))\n",
    "print(\"Accuracy: \", accuracy_score(val_y, y_pred))\n",
    "print(\"F1 Score: \", f1_score(val_y, y_pred))\n",
    "print(\"Confusion Matrix: \")\n",
    "print(confusion_matrix(y_pred,val_y))\n",
    "sns.heatmap(confusion_matrix(y_pred,val_y), annot=True);"
   ]
  },
  {
   "cell_type": "code",
   "execution_count": 31,
   "id": "908cc238",
   "metadata": {},
   "outputs": [
    {
     "name": "stdout",
     "output_type": "stream",
     "text": [
      "166\n"
     ]
    },
    {
     "data": {
      "text/plain": [
       "Unnamed: 0                       166.0000\n",
       "Age                               27.0000\n",
       "Gender                             1.0000\n",
       "Marital Status                     1.0000\n",
       "Occupation                         0.0000\n",
       "Monthly Income                     0.0000\n",
       "Educational Qualifications         3.0000\n",
       "Family size                        5.0000\n",
       "latitude                          13.0503\n",
       "longitude                         77.5529\n",
       "Pin code                      560013.0000\n",
       "Name: 166, dtype: float64"
      ]
     },
     "execution_count": 31,
     "metadata": {},
     "output_type": "execute_result"
    }
   ],
   "source": [
    "#Model Testing with Random Forest\n",
    "\n",
    "r = random.randint(0,len(df))\n",
    "print(r)\n",
    "new_customer = df.drop('Output', axis=1).iloc[r]\n",
    "new_customer"
   ]
  },
  {
   "cell_type": "code",
   "execution_count": 32,
   "id": "12724daa",
   "metadata": {},
   "outputs": [
    {
     "name": "stderr",
     "output_type": "stream",
     "text": [
      "/Users/titusgoh/opt/anaconda3/lib/python3.9/site-packages/sklearn/base.py:450: UserWarning: X does not have valid feature names, but RandomForestClassifier was fitted with feature names\n",
      "  warnings.warn(\n"
     ]
    },
    {
     "data": {
      "text/plain": [
       "array([0])"
      ]
     },
     "execution_count": 32,
     "metadata": {},
     "output_type": "execute_result"
    }
   ],
   "source": [
    "rfc.predict(new_customer.values.reshape(1,11)) # predicted output"
   ]
  },
  {
   "cell_type": "code",
   "execution_count": 33,
   "id": "3519c305",
   "metadata": {},
   "outputs": [
    {
     "data": {
      "text/plain": [
       "0.0"
      ]
     },
     "execution_count": 33,
     "metadata": {},
     "output_type": "execute_result"
    }
   ],
   "source": [
    "df.iloc[r]['Output'] # actual Output"
   ]
  }
 ],
 "metadata": {
  "kernelspec": {
   "display_name": "Python 3 (ipykernel)",
   "language": "python",
   "name": "python3"
  },
  "language_info": {
   "codemirror_mode": {
    "name": "ipython",
    "version": 3
   },
   "file_extension": ".py",
   "mimetype": "text/x-python",
   "name": "python",
   "nbconvert_exporter": "python",
   "pygments_lexer": "ipython3",
   "version": "3.9.12"
  }
 },
 "nbformat": 4,
 "nbformat_minor": 5
}
