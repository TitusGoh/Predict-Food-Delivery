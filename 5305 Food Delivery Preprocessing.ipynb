{
 "cells": [
  {
   "cell_type": "code",
   "execution_count": 2,
   "id": "14d70085",
   "metadata": {},
   "outputs": [
    {
     "name": "stdout",
     "output_type": "stream",
     "text": [
      "   Age  Gender Marital Status Occupation  Monthly Income  \\\n",
      "0   20  Female         Single    Student       No Income   \n",
      "1   24  Female         Single    Student  Below Rs.10000   \n",
      "2   22    Male         Single    Student  Below Rs.10000   \n",
      "3   22  Female         Single    Student       No Income   \n",
      "4   22    Male         Single    Student  Below Rs.10000   \n",
      "\n",
      "  Educational Qualifications  Family size  latitude  longitude  Pin code  \\\n",
      "0              Post Graduate            4   12.9766    77.5993    560001   \n",
      "1                   Graduate            3   12.9770    77.5773    560009   \n",
      "2              Post Graduate            3   12.9551    77.6593    560017   \n",
      "3                   Graduate            6   12.9473    77.5616    560019   \n",
      "4              Post Graduate            4   12.9850    77.5533    560010   \n",
      "\n",
      "  Output  \n",
      "0    Yes  \n",
      "1    Yes  \n",
      "2    Yes  \n",
      "3    Yes  \n",
      "4    Yes  \n"
     ]
    }
   ],
   "source": [
    "import pandas as pd\n",
    "#read data\n",
    "df = pd.read_csv(\"onlinedeliverydata.csv\")\n",
    "print(df.head())"
   ]
  },
  {
   "cell_type": "code",
   "execution_count": 3,
   "id": "b2ccd3d3",
   "metadata": {},
   "outputs": [
    {
     "data": {
      "text/plain": [
       "array([[20, 'Female', 'Single', ..., 77.5993, 560001, 'Yes'],\n",
       "       [24, 'Female', 'Single', ..., 77.5773, 560009, 'Yes'],\n",
       "       [22, 'Male', 'Single', ..., 77.6593, 560017, 'Yes'],\n",
       "       ...,\n",
       "       [22, 'Female', 'Single', ..., 77.5533, 560010, 'Yes'],\n",
       "       [23, 'Male', 'Single', ..., 77.5773, 560009, 'Yes'],\n",
       "       [23, 'Male', 'Single', ..., 77.5764, 560078, 'Yes']], dtype=object)"
      ]
     },
     "execution_count": 3,
     "metadata": {},
     "output_type": "execute_result"
    }
   ],
   "source": [
    "df.values"
   ]
  },
  {
   "cell_type": "code",
   "execution_count": 4,
   "id": "0b63a4be",
   "metadata": {},
   "outputs": [
    {
     "name": "stdout",
     "output_type": "stream",
     "text": [
      "0      1\n",
      "1      1\n",
      "2      0\n",
      "3      1\n",
      "4      0\n",
      "      ..\n",
      "383    1\n",
      "384    1\n",
      "385    1\n",
      "386    0\n",
      "387    0\n",
      "Name: Gender, Length: 388, dtype: int64\n"
     ]
    }
   ],
   "source": [
    "#Male = 0, Female = 1\n",
    "df[\"Gender\"] = df[\"Gender\"].map({\"Male\":0,\"Female\":1})\n",
    "print(df[\"Gender\"])"
   ]
  },
  {
   "cell_type": "code",
   "execution_count": 5,
   "id": "80479d6b",
   "metadata": {},
   "outputs": [
    {
     "name": "stdout",
     "output_type": "stream",
     "text": [
      "0      1\n",
      "1      1\n",
      "2      1\n",
      "3      1\n",
      "4      1\n",
      "      ..\n",
      "383    1\n",
      "384    1\n",
      "385    1\n",
      "386    1\n",
      "387    1\n",
      "Name: Marital Status, Length: 388, dtype: int64\n"
     ]
    }
   ],
   "source": [
    "#Married = 0, Single = 1, Prefer not to say = 2\n",
    "df[\"Marital Status\"] = df[\"Marital Status\"].map({\"Married\":0,\"Single\":1,\"Prefer not to say\":2})\n",
    "print(df[\"Marital Status\"])"
   ]
  },
  {
   "cell_type": "code",
   "execution_count": 6,
   "id": "3aaf0b5a",
   "metadata": {},
   "outputs": [
    {
     "name": "stdout",
     "output_type": "stream",
     "text": [
      "0      0\n",
      "1      0\n",
      "2      0\n",
      "3      0\n",
      "4      0\n",
      "      ..\n",
      "383    0\n",
      "384    0\n",
      "385    0\n",
      "386    0\n",
      "387    0\n",
      "Name: Occupation, Length: 388, dtype: int64\n"
     ]
    }
   ],
   "source": [
    "#Unemployed = 0, Employed = 1\n",
    "df[\"Occupation\"] = df[\"Occupation\"].map({\"Student\" : 0, \"House wife\" : 0, \"Employee\": 1, \"Self Employeed\" : 1})\n",
    "print(df[\"Occupation\"])"
   ]
  },
  {
   "cell_type": "code",
   "execution_count": 7,
   "id": "0a21e967",
   "metadata": {},
   "outputs": [
    {
     "name": "stdout",
     "output_type": "stream",
     "text": [
      "0      2\n",
      "1      1\n",
      "2      2\n",
      "3      1\n",
      "4      2\n",
      "      ..\n",
      "383    2\n",
      "384    2\n",
      "385    2\n",
      "386    2\n",
      "387    2\n",
      "Name: Educational Qualifications, Length: 388, dtype: int64\n"
     ]
    }
   ],
   "source": [
    "#Uneducated = 0, Graduate = 1, Post Graduate = 2, Ph.D = 3, School = 4\n",
    "df[\"Educational Qualifications\"] = df[\"Educational Qualifications\"].map({\"Uneducated\": 0, \"Graduate\": 1, \n",
    "                                                                             \"Post Graduate\": 2, \n",
    "                                                                             \"Ph.D\": 3, \"School\": 4})\n",
    "print(df[\"Educational Qualifications\"])"
   ]
  },
  {
   "cell_type": "code",
   "execution_count": 8,
   "id": "fa02e63b",
   "metadata": {},
   "outputs": [
    {
     "name": "stdout",
     "output_type": "stream",
     "text": [
      "0      0\n",
      "1      1\n",
      "2      1\n",
      "3      0\n",
      "4      1\n",
      "      ..\n",
      "383    0\n",
      "384    0\n",
      "385    0\n",
      "386    1\n",
      "387    0\n",
      "Name: Monthly Income, Length: 388, dtype: int64\n"
     ]
    }
   ],
   "source": [
    "#No income = 0, Below 10,000 = 1, 10001 - 25999 = 2, 25001- 50000 = 3, More than 50,000 = 4\n",
    "df[\"Monthly Income\"] = df[\"Monthly Income\"].map({\"No Income\" : 0, \"Below Rs.10000\" : 1, \"10001 to 25000\" : 2,\n",
    "                                                 \"25001 to 50000\" : 3, \"More than 50000\" : 4})\n",
    "print(df[\"Monthly Income\"])"
   ]
  },
  {
   "cell_type": "code",
   "execution_count": 9,
   "id": "5851354d",
   "metadata": {},
   "outputs": [
    {
     "name": "stdout",
     "output_type": "stream",
     "text": [
      "0      1\n",
      "1      1\n",
      "2      1\n",
      "3      1\n",
      "4      1\n",
      "      ..\n",
      "383    1\n",
      "384    1\n",
      "385    1\n",
      "386    1\n",
      "387    1\n",
      "Name: Output, Length: 388, dtype: int64\n"
     ]
    }
   ],
   "source": [
    "#No = 0, Yes = 1\n",
    "df[\"Output\"] = df[\"Output\"].map({\"No\":0,\"Yes\":1})\n",
    "print(df[\"Output\"])"
   ]
  },
  {
   "cell_type": "code",
   "execution_count": 10,
   "id": "d4affc71",
   "metadata": {},
   "outputs": [],
   "source": [
    "df.to_csv(\"processed_food_delivery.csv\")"
   ]
  },
  {
   "cell_type": "code",
   "execution_count": null,
   "id": "d83818f8",
   "metadata": {},
   "outputs": [],
   "source": []
  }
 ],
 "metadata": {
  "kernelspec": {
   "display_name": "Python 3 (ipykernel)",
   "language": "python",
   "name": "python3"
  },
  "language_info": {
   "codemirror_mode": {
    "name": "ipython",
    "version": 3
   },
   "file_extension": ".py",
   "mimetype": "text/x-python",
   "name": "python",
   "nbconvert_exporter": "python",
   "pygments_lexer": "ipython3",
   "version": "3.9.12"
  }
 },
 "nbformat": 4,
 "nbformat_minor": 5
}
